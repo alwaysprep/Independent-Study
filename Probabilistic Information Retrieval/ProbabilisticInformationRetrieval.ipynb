{
 "cells": [
  {
   "cell_type": "markdown",
   "metadata": {},
   "source": [
    "# Probabilistic Information Retrieval Review"
   ]
  },
  {
   "cell_type": "markdown",
   "metadata": {},
   "source": [
    "\n",
    "$\\hspace{10 mm}$For the last few decades information on any medium has increased tremendously, especially online data which grows exponentially. The more data online, the more troublesome to reach the relevant information. There are many models to retrieve relevant documents online, in this notebook I am going to explain Binary Independence Model(BIM) on top of Probability Ranking Principle(PRP).\n",
    "    \n",
    "$\\hspace{10 mm}$Probability ranking principle is using probabilistic approach to rank documents by relevancy. The assumption here is that,if we have documents d and query q, we can find the best ranking by calculating each documents probability of relevancy P(R=1|d,q) and sort the probabilities by decreasing order.\n",
    "    \n",
    "$\\hspace{10 mm}$For the Binary independence model, we assume that documents and queries are binary vectors that only shows the presence or absence of the words in a given vocabulary. So the **ordering of words** and **number of occurrence** is ignored by BIM.\n",
    "\n",
    "\n",
    "\\begin{align}\n",
    " \\normalsize{\t\t\n",
    "    \\textrm{Let's assume: } x_t ,\\, q_t \\; \\epsilon \\; \\{1,0\\} ,\\\\\n",
    "    \\textrm{ M is the vocabulary size}\\\\\n",
    "    d = \\vec{x} = (x_1, x_2,... x_M)\\\\\n",
    "    q = \\vec{q} = (q_1, q_2,... q_M)\\\\\n",
    " }\n",
    "\\end{align}\n",
    "\n",
    "In order to find $ P(R=1|\\vec{x}, \\vec{q}) $ we use Bayes rule:\n",
    "\n",
    "\\begin{align}\n",
    "P(A|B) = \\frac{P(B|A)P(A)}{P(B)}\\\\\n",
    "\\end{align}\n",
    "\n",
    "\n",
    "If the equation below\n",
    "<font color='blue'>\n",
    "\\begin{align}\n",
    "\\normalsize{\n",
    "    P(R=1|\\vec{x}) = \\frac{P(\\vec{x}|R=1)P(R=1)}{P(\\vec{x})}\n",
    " }\n",
    "\\end{align}\n",
    "</font>\n",
    "is conditined by $\\color{green}{\\vec{q}}$, we would get this:\n",
    "\\begin{align}\n",
    "    \\normalsize{\\color{blue}{\n",
    "    P(R=1|\\vec{x},\\color{green}{\\vec{q}})= \n",
    "    {\\frac{P(\\vec{x}|R=1, \\color{green}{\\vec{q}})P(R=1|\\color{green}{\\vec{q}})}{P(\\vec{x}|\\color{green}{\\vec{q}})}}\n",
    "}\n",
    "}\\end{align}\n",
    "\n",
    "\n",
    "\n",
    "\n",
    "Since odds of $O(R|\\vec{x},\\vec{q})$ does monotonicly increase with $P(R=1|\\vec{x},\\vec{q})$, we can use odds for relevancy ranking.\n",
    "\n",
    "\n"
   ]
  },
  {
   "cell_type": "markdown",
   "metadata": {},
   "source": [
    "\n",
    "\\begin{align}\n",
    "    O(R|\\vec{x}, \\vec{q}) = \n",
    "    \\frac{P(R=1|\\vec{x},\\vec{q})}{P(R=0|\\vec{x}, \\vec{q})}=\n",
    "    \\frac\n",
    "    {\n",
    "    \\frac {P(\\vec{x}|R=1, \\vec{q})P(R=1|\\vec{q})} {P(\\vec{x}|\\vec{q})}\n",
    "    }\n",
    "    {\n",
    "    \\frac {P(\\vec{x}|R=0, \\vec{q})P(R=0|\\vec{q})} {P(\\vec{x}|\\vec{q})}\n",
    "    }\n",
    "\\end{align}\n",
    "\n",
    "This way we get rid of denominator $P(\\vec{x}|\\vec{q})$ \n",
    "\n",
    "\\begin{align}\n",
    "=\\frac {P(R=1|\\vec{q})} {P(R=0|\\vec{q})} \n",
    "\\frac\n",
    "{\n",
    "P(\\vec{x}|R=1, \\vec{q})\n",
    "}\n",
    "{\n",
    "P(\\vec{x}|R=0, \\vec{q})\n",
    "}\n",
    "\\end{align}\n",
    "\n"
   ]
  },
  {
   "cell_type": "markdown",
   "metadata": {},
   "source": [
    "The first part $\\frac {P(R=1|\\vec{q})} {P(R=0|\\vec{q})}$ does not depend on the document which means that it is same for every document. So we can eliminate it for ranking purposes."
   ]
  },
  {
   "cell_type": "code",
   "execution_count": null,
   "metadata": {
    "collapsed": true
   },
   "outputs": [],
   "source": []
  }
 ],
 "metadata": {
  "kernelspec": {
   "display_name": "Python 2",
   "language": "python",
   "name": "python2"
  },
  "language_info": {
   "codemirror_mode": {
    "name": "ipython",
    "version": 2
   },
   "file_extension": ".py",
   "mimetype": "text/x-python",
   "name": "python",
   "nbconvert_exporter": "python",
   "pygments_lexer": "ipython2",
   "version": "2.7.11"
  }
 },
 "nbformat": 4,
 "nbformat_minor": 0
}
